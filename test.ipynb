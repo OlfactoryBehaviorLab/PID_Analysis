{
 "cells": [
  {
   "cell_type": "code",
   "outputs": [],
   "source": [
    "%load_ext autoreload\n",
    "%autoreload 2"
   ],
   "metadata": {
    "collapsed": false,
    "ExecuteTime": {
     "end_time": "2024-02-02T00:22:16.939653500Z",
     "start_time": "2024-02-02T00:22:16.887061Z"
    }
   },
   "id": "10ad8c7f867e4631",
   "execution_count": 1
  },
  {
   "cell_type": "code",
   "execution_count": 2,
   "id": "initial_id",
   "metadata": {
    "collapsed": true,
    "ExecuteTime": {
     "end_time": "2024-02-02T00:22:17.677737600Z",
     "start_time": "2024-02-02T00:22:16.943627600Z"
    }
   },
   "outputs": [],
   "source": [
    "from pathlib import Path\n",
    "import pandas as pd\n",
    "import numpy as np\n",
    "from Utils import Dewan_MAT_Parser"
   ]
  },
  {
   "cell_type": "code",
   "outputs": [],
   "source": [
    "mat = Dewan_MAT_Parser.load_mat(Path('matlab.mat'))"
   ],
   "metadata": {
    "collapsed": false,
    "ExecuteTime": {
     "end_time": "2024-02-02T00:22:17.764737Z",
     "start_time": "2024-02-02T00:22:17.682745900Z"
    }
   },
   "id": "af512b37c96d5adc",
   "execution_count": 3
  },
  {
   "cell_type": "code",
   "outputs": [],
   "source": [
    "session_data = mat['SessionData'][0]"
   ],
   "metadata": {
    "collapsed": false,
    "ExecuteTime": {
     "end_time": "2024-02-02T00:22:17.839733300Z",
     "start_time": "2024-02-02T00:22:17.768740500Z"
    }
   },
   "id": "c173e858125e2f38",
   "execution_count": 4
  },
  {
   "cell_type": "code",
   "outputs": [],
   "source": [
    "analog_data_swap = session_data['analog_stream_swap'][0][0]\n",
    "analog_data_swap = pd.DataFrame(analog_data_swap)\n",
    "\n",
    "analog_data_swap = analog_data_swap.map(lambda x: np.ravel(x))\n",
    "\n",
    "#columns_to_explode = list(analog_data_swap.keys().values[:2])\n",
    "\n",
    "#analog_data_swap = analog_data_swap.explode(columns_to_explode)"
   ],
   "metadata": {
    "collapsed": false,
    "ExecuteTime": {
     "end_time": "2024-02-02T00:36:49.015416600Z",
     "start_time": "2024-02-02T00:36:48.935906300Z"
    }
   },
   "id": "de59278b291e3dea",
   "execution_count": 45
  },
  {
   "cell_type": "code",
   "outputs": [],
   "source": [
    "analog_data_swap.reset_index(drop=True, inplace=True)"
   ],
   "metadata": {
    "collapsed": false,
    "ExecuteTime": {
     "end_time": "2024-02-02T00:30:38.580693Z",
     "start_time": "2024-02-02T00:30:38.494694500Z"
    }
   },
   "id": "6ddbbd824b42282d",
   "execution_count": 36
  },
  {
   "cell_type": "code",
   "outputs": [
    {
     "data": {
      "text/plain": "Index([4, 95, 275, 366], dtype='int64')"
     },
     "execution_count": 48,
     "metadata": {},
     "output_type": "execute_result"
    }
   ],
   "source": [
    "analog_data_swap.index[analog_data_swap['sync_indexes'] == 83]"
   ],
   "metadata": {
    "collapsed": false,
    "ExecuteTime": {
     "end_time": "2024-02-02T00:37:32.145182300Z",
     "start_time": "2024-02-02T00:37:32.064176300Z"
    }
   },
   "id": "e5ef26a475a279ce",
   "execution_count": 48
  },
  {
   "cell_type": "code",
   "outputs": [
    {
     "ename": "IndexError",
     "evalue": "only integers, slices (`:`), ellipsis (`...`), numpy.newaxis (`None`) and integer or boolean arrays are valid indices",
     "output_type": "error",
     "traceback": [
      "\u001B[1;31m---------------------------------------------------------------------------\u001B[0m",
      "\u001B[1;31mIndexError\u001B[0m                                Traceback (most recent call last)",
      "Cell \u001B[1;32mIn[55], line 1\u001B[0m\n\u001B[1;32m----> 1\u001B[0m start_indexes \u001B[38;5;241m=\u001B[39m \u001B[43manalog_data_swap\u001B[49m\u001B[38;5;241;43m.\u001B[39;49m\u001B[43mindex\u001B[49m\u001B[43m[\u001B[49m\u001B[38;5;241;43m83\u001B[39;49m\u001B[43m \u001B[49m\u001B[38;5;129;43;01min\u001B[39;49;00m\u001B[43m \u001B[49m\u001B[43manalog_data_swap\u001B[49m\u001B[43m[\u001B[49m\u001B[38;5;124;43m'\u001B[39;49m\u001B[38;5;124;43msync_indexes\u001B[39;49m\u001B[38;5;124;43m'\u001B[39;49m\u001B[43m]\u001B[49m\u001B[43m]\u001B[49m\n\u001B[0;32m      2\u001B[0m FV_indexes \u001B[38;5;241m=\u001B[39m analog_data_swap\u001B[38;5;241m.\u001B[39mindex[analog_data_swap[\u001B[38;5;124m'\u001B[39m\u001B[38;5;124msync_indexes\u001B[39m\u001B[38;5;124m'\u001B[39m] \u001B[38;5;241m==\u001B[39m \u001B[38;5;241m70\u001B[39m]\n\u001B[0;32m      3\u001B[0m end_indexes \u001B[38;5;241m=\u001B[39m analog_data_swap\u001B[38;5;241m.\u001B[39mindex[analog_data_swap[\u001B[38;5;124m'\u001B[39m\u001B[38;5;124msync_indexes\u001B[39m\u001B[38;5;124m'\u001B[39m] \u001B[38;5;241m==\u001B[39m \u001B[38;5;241m69\u001B[39m]\n",
      "File \u001B[1;32mC:\\Users\\dewanlab.PSY-PDB-C474-B\\mambaforge\\envs\\Imaging\\lib\\site-packages\\pandas\\core\\indexes\\range.py:988\u001B[0m, in \u001B[0;36mRangeIndex.__getitem__\u001B[1;34m(self, key)\u001B[0m\n\u001B[0;32m    984\u001B[0m         \u001B[38;5;28;01mraise\u001B[39;00m \u001B[38;5;167;01mIndexError\u001B[39;00m(\n\u001B[0;32m    985\u001B[0m             \u001B[38;5;124mf\u001B[39m\u001B[38;5;124m\"\u001B[39m\u001B[38;5;124mindex \u001B[39m\u001B[38;5;132;01m{\u001B[39;00mkey\u001B[38;5;132;01m}\u001B[39;00m\u001B[38;5;124m is out of bounds for axis 0 with size \u001B[39m\u001B[38;5;132;01m{\u001B[39;00m\u001B[38;5;28mlen\u001B[39m(\u001B[38;5;28mself\u001B[39m)\u001B[38;5;132;01m}\u001B[39;00m\u001B[38;5;124m\"\u001B[39m\n\u001B[0;32m    986\u001B[0m         ) \u001B[38;5;28;01mfrom\u001B[39;00m \u001B[38;5;21;01merr\u001B[39;00m\n\u001B[0;32m    987\u001B[0m \u001B[38;5;28;01melif\u001B[39;00m is_scalar(key):\n\u001B[1;32m--> 988\u001B[0m     \u001B[38;5;28;01mraise\u001B[39;00m \u001B[38;5;167;01mIndexError\u001B[39;00m(\n\u001B[0;32m    989\u001B[0m         \u001B[38;5;124m\"\u001B[39m\u001B[38;5;124monly integers, slices (`:`), \u001B[39m\u001B[38;5;124m\"\u001B[39m\n\u001B[0;32m    990\u001B[0m         \u001B[38;5;124m\"\u001B[39m\u001B[38;5;124mellipsis (`...`), numpy.newaxis (`None`) \u001B[39m\u001B[38;5;124m\"\u001B[39m\n\u001B[0;32m    991\u001B[0m         \u001B[38;5;124m\"\u001B[39m\u001B[38;5;124mand integer or boolean \u001B[39m\u001B[38;5;124m\"\u001B[39m\n\u001B[0;32m    992\u001B[0m         \u001B[38;5;124m\"\u001B[39m\u001B[38;5;124marrays are valid indices\u001B[39m\u001B[38;5;124m\"\u001B[39m\n\u001B[0;32m    993\u001B[0m     )\n\u001B[0;32m    994\u001B[0m \u001B[38;5;28;01mreturn\u001B[39;00m \u001B[38;5;28msuper\u001B[39m()\u001B[38;5;241m.\u001B[39m\u001B[38;5;21m__getitem__\u001B[39m(key)\n",
      "\u001B[1;31mIndexError\u001B[0m: only integers, slices (`:`), ellipsis (`...`), numpy.newaxis (`None`) and integer or boolean arrays are valid indices"
     ]
    }
   ],
   "source": [
    "start_indexes = analog_data_swap.index[analog_data_swap['sync_indexes'].contains]\n",
    "FV_indexes = analog_data_swap.index[analog_data_swap['sync_indexes'] == 70]\n",
    "end_indexes = analog_data_swap.index[analog_data_swap['sync_indexes'] == 69]"
   ],
   "metadata": {
    "collapsed": false,
    "ExecuteTime": {
     "end_time": "2024-02-02T00:46:44.643871600Z",
     "start_time": "2024-02-02T00:46:44.464868800Z"
    }
   },
   "id": "535505a205bb670f",
   "execution_count": 55
  },
  {
   "cell_type": "code",
   "outputs": [
    {
     "data": {
      "text/plain": "Index([], dtype='int64')"
     },
     "execution_count": 54,
     "metadata": {},
     "output_type": "execute_result"
    }
   ],
   "source": [
    "start_indexes"
   ],
   "metadata": {
    "collapsed": false,
    "ExecuteTime": {
     "end_time": "2024-02-02T00:46:27.563395200Z",
     "start_time": "2024-02-02T00:46:27.479627100Z"
    }
   },
   "id": "ea424bbec2416e6d",
   "execution_count": 54
  },
  {
   "cell_type": "code",
   "outputs": [
    {
     "data": {
      "text/plain": "Index([16, 106, 196, 287, 378], dtype='int64')"
     },
     "execution_count": 51,
     "metadata": {},
     "output_type": "execute_result"
    }
   ],
   "source": [
    "FV_indexes"
   ],
   "metadata": {
    "collapsed": false,
    "ExecuteTime": {
     "end_time": "2024-02-02T00:44:31.881060100Z",
     "start_time": "2024-02-02T00:44:31.802063200Z"
    }
   },
   "id": "48ec4852513a09f9",
   "execution_count": 51
  },
  {
   "cell_type": "code",
   "outputs": [
    {
     "data": {
      "text/plain": "Index([56, 146, 235, 326, 417], dtype='int64')"
     },
     "execution_count": 52,
     "metadata": {},
     "output_type": "execute_result"
    }
   ],
   "source": [
    "end_indexes"
   ],
   "metadata": {
    "collapsed": false,
    "ExecuteTime": {
     "end_time": "2024-02-02T00:44:34.241914400Z",
     "start_time": "2024-02-02T00:44:34.157916300Z"
    }
   },
   "id": "c41b3f8225b1843e",
   "execution_count": 52
  },
  {
   "cell_type": "code",
   "outputs": [],
   "source": [
    "test = set([83])"
   ],
   "metadata": {
    "collapsed": false,
    "ExecuteTime": {
     "end_time": "2024-02-02T00:49:45.580984600Z",
     "start_time": "2024-02-02T00:49:45.504985600Z"
    }
   },
   "id": "f3e722d4d9cc1508",
   "execution_count": 62
  },
  {
   "cell_type": "code",
   "outputs": [
    {
     "data": {
      "text/plain": "<function set.issubset>"
     },
     "execution_count": 63,
     "metadata": {},
     "output_type": "execute_result"
    }
   ],
   "source": [
    "test.issubset"
   ],
   "metadata": {
    "collapsed": false,
    "ExecuteTime": {
     "end_time": "2024-02-02T00:49:46.623968700Z",
     "start_time": "2024-02-02T00:49:46.549873900Z"
    }
   },
   "id": "75d44adac3f80cc9",
   "execution_count": 63
  },
  {
   "cell_type": "code",
   "outputs": [],
   "source": [
    "start_indexes = analog_data_swap.index[analog_data_swap['sync_indexes'].map(test.issubset)]"
   ],
   "metadata": {
    "collapsed": false,
    "ExecuteTime": {
     "end_time": "2024-02-02T00:49:48.299109200Z",
     "start_time": "2024-02-02T00:49:48.224793400Z"
    }
   },
   "id": "86059fc6d3266fed",
   "execution_count": 64
  },
  {
   "cell_type": "code",
   "outputs": [
    {
     "data": {
      "text/plain": "Index([4, 95, 275, 366], dtype='int64')"
     },
     "execution_count": 65,
     "metadata": {},
     "output_type": "execute_result"
    }
   ],
   "source": [
    "start_indexes"
   ],
   "metadata": {
    "collapsed": false,
    "ExecuteTime": {
     "end_time": "2024-02-02T00:49:49.247180700Z",
     "start_time": "2024-02-02T00:49:49.173187200Z"
    }
   },
   "id": "3465cda13b7a6b73",
   "execution_count": 65
  },
  {
   "cell_type": "code",
   "outputs": [],
   "source": [],
   "metadata": {
    "collapsed": false
   },
   "id": "6784536bd6d72c1d"
  }
 ],
 "metadata": {
  "kernelspec": {
   "display_name": "Python 3",
   "language": "python",
   "name": "python3"
  },
  "language_info": {
   "codemirror_mode": {
    "name": "ipython",
    "version": 2
   },
   "file_extension": ".py",
   "mimetype": "text/x-python",
   "name": "python",
   "nbconvert_exporter": "python",
   "pygments_lexer": "ipython2",
   "version": "2.7.6"
  }
 },
 "nbformat": 4,
 "nbformat_minor": 5
}
